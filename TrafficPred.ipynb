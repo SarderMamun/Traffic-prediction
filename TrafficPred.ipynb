{
 "cells": [
  {
   "cell_type": "code",
   "execution_count": null,
   "id": "f4d9808e-6733-4e0a-b6fd-cd14d833920c",
   "metadata": {},
   "outputs": [],
   "source": [
    "import pandas as pd\n",
    "import numpy as np\n",
    "import matplotlib.pyplot as plt\n",
    "import seaborn as sns"
   ]
  },
  {
   "cell_type": "code",
   "execution_count": null,
   "id": "f3336e18-a34f-4129-8272-36fdc03dc011",
   "metadata": {},
   "outputs": [],
   "source": [
    "df= pd.read_csv('Traffic-Prediction-using-Machine-Learning.csv')"
   ]
  },
  {
   "cell_type": "code",
   "execution_count": null,
   "id": "dae98810-1dc2-4d90-a24c-7aef76a5bc9e",
   "metadata": {},
   "outputs": [],
   "source": [
    "df.info()"
   ]
  },
  {
   "cell_type": "code",
   "execution_count": null,
   "id": "d8242e9b-2fc3-48f1-994d-9342812c409a",
   "metadata": {},
   "outputs": [],
   "source": [
    "df.describe()"
   ]
  },
  {
   "cell_type": "code",
   "execution_count": null,
   "id": "9a17b4a8-b983-458e-8f79-4043a0150212",
   "metadata": {},
   "outputs": [],
   "source": [
    "df.drop([\"Day\",\"Date\"], axis=1, inplace=True)"
   ]
  },
  {
   "cell_type": "code",
   "execution_count": null,
   "id": "be13b911-f71c-41a4-bd30-9b91dca37cca",
   "metadata": {},
   "outputs": [],
   "source": [
    "df.info()"
   ]
  },
  {
   "cell_type": "code",
   "execution_count": null,
   "id": "c0e4dfd0-3009-4ac9-8899-ca7379288e2f",
   "metadata": {},
   "outputs": [],
   "source": [
    "x = df.iloc[:,:-1]"
   ]
  },
  {
   "cell_type": "code",
   "execution_count": null,
   "id": "71bcf23e-007d-4815-a155-b15304d51a8c",
   "metadata": {},
   "outputs": [],
   "source": [
    "y = df.iloc[:,4]"
   ]
  },
  {
   "cell_type": "code",
   "execution_count": null,
   "id": "6c395203-5127-47f7-b982-b65f93c60ab4",
   "metadata": {},
   "outputs": [],
   "source": [
    "y"
   ]
  },
  {
   "cell_type": "code",
   "execution_count": null,
   "id": "4e4becc4-6fdd-44cc-9421-a55dd2e8391a",
   "metadata": {},
   "outputs": [],
   "source": [
    "from sklearn.model_selection import train_test_split\n",
    "xtrain,xtest,ytrain,ytest = train_test_split(x,y,test_size=.20,random_state=42)"
   ]
  },
  {
   "cell_type": "code",
   "execution_count": null,
   "id": "25466b2a-7816-4618-9ede-fdbf5adfa27a",
   "metadata": {},
   "outputs": [],
   "source": [
    "from sklearn.tree import DecisionTreeClassifier"
   ]
  },
  {
   "cell_type": "code",
   "execution_count": null,
   "id": "e580a431-2084-4584-bc8f-c7986f15081b",
   "metadata": {},
   "outputs": [],
   "source": [
    "dect = DecisionTreeClassifier()"
   ]
  },
  {
   "cell_type": "code",
   "execution_count": null,
   "id": "aaa3bb71-a700-4b0e-ab0b-32adcf35c3ca",
   "metadata": {},
   "outputs": [],
   "source": [
    "dect.fit(xtrain,ytrain)"
   ]
  },
  {
   "cell_type": "code",
   "execution_count": null,
   "id": "71e3a158-5e9b-4e4c-bb35-4cbaa7b737a7",
   "metadata": {},
   "outputs": [],
   "source": [
    "dect.score(xtest, ytest)"
   ]
  },
  {
   "cell_type": "code",
   "execution_count": null,
   "id": "33b94820-1850-46c2-9345-485bf3b71925",
   "metadata": {},
   "outputs": [],
   "source": [
    "from sklearn.model_selection import cross_val_score"
   ]
  },
  {
   "cell_type": "code",
   "execution_count": null,
   "id": "494e42e5-123f-44bf-b789-2bccbd699252",
   "metadata": {},
   "outputs": [],
   "source": [
    "model = cross_val_score(DecisionTreeClassifier(), x, y,cv=5)\n",
    "model"
   ]
  },
  {
   "cell_type": "code",
   "execution_count": null,
   "id": "8420c687-d5dd-49fa-8112-b3854168353b",
   "metadata": {},
   "outputs": [],
   "source": [
    "model.mean()"
   ]
  },
  {
   "cell_type": "code",
   "execution_count": null,
   "id": "6f9094f3-4cf8-4f08-acf1-5bd68111f53e",
   "metadata": {},
   "outputs": [],
   "source": [
    "y_predict = dect.predict(xtest)"
   ]
  },
  {
   "cell_type": "code",
   "execution_count": null,
   "id": "b9942711-b85b-45a3-8194-bbffe6c2e2f2",
   "metadata": {},
   "outputs": [],
   "source": [
    "y_predict"
   ]
  },
  {
   "cell_type": "code",
   "execution_count": null,
   "id": "1d995f13-5a5d-478a-8448-1ad3ca1825a1",
   "metadata": {},
   "outputs": [],
   "source": [
    "df.head(5)"
   ]
  },
  {
   "cell_type": "code",
   "execution_count": null,
   "id": "c18a3ac5-3c78-425c-8f87-061ac382161f",
   "metadata": {},
   "outputs": [],
   "source": [
    "from sklearn.metrics import classification_report, confusion_matrix"
   ]
  },
  {
   "cell_type": "code",
   "execution_count": null,
   "id": "dbc140cd-8b92-4694-8a42-2c2d2428dcd5",
   "metadata": {},
   "outputs": [],
   "source": [
    "print(confusion_matrix(ytest, y_predict))\n",
    "print(classification_report(ytest,y_predict))"
   ]
  },
  {
   "cell_type": "code",
   "execution_count": null,
   "id": "a3f91397-755b-4853-b387-0db92fbc5d7b",
   "metadata": {},
   "outputs": [],
   "source": [
    "xinput = np.array([3,6,18,42])"
   ]
  },
  {
   "cell_type": "code",
   "execution_count": null,
   "id": "598c2874-43ff-4d49-a110-090ac8609267",
   "metadata": {},
   "outputs": [],
   "source": [
    "y_predict = dect.predict([xinput])"
   ]
  },
  {
   "cell_type": "code",
   "execution_count": null,
   "id": "af4ad1d3-0b28-444b-b6c0-c34eed63d005",
   "metadata": {},
   "outputs": [],
   "source": [
    "y_predict "
   ]
  },
  {
   "cell_type": "code",
   "execution_count": null,
   "id": "d3166b24-1299-4226-bee2-1aac23aba1dc",
   "metadata": {},
   "outputs": [],
   "source": [
    "from sklearn import tree\n",
    "from matplotlib import pyplot as plt\n",
    "fig=plt.figure(figsize=(30,20))\n",
    "tree.plot_tree(dect, feature_names=x.columns, filled=True, fontsize=20)"
   ]
  },
  {
   "cell_type": "code",
   "execution_count": null,
   "id": "0bff5b3d-1b5e-4711-ad60-d7ee841b711d",
   "metadata": {},
   "outputs": [],
   "source": [
    "from sklearn.linear_model import LinearRegression"
   ]
  },
  {
   "cell_type": "code",
   "execution_count": null,
   "id": "480626ff-bafe-4d5f-b531-349f1a52d5f6",
   "metadata": {},
   "outputs": [],
   "source": [
    "lm = LinearRegression()"
   ]
  },
  {
   "cell_type": "code",
   "execution_count": null,
   "id": "082aa353-dc78-45d9-bb61-3c31ce905249",
   "metadata": {},
   "outputs": [],
   "source": [
    "lm.fit(xtrain,ytrain)"
   ]
  },
  {
   "cell_type": "code",
   "execution_count": null,
   "id": "329a6b81-bd5a-48db-9c12-1dc8797580bc",
   "metadata": {},
   "outputs": [],
   "source": [
    "predictions = lm.predict(xtest)"
   ]
  },
  {
   "cell_type": "code",
   "execution_count": null,
   "id": "fe825bec-bb9b-47b0-b71e-b964713d7140",
   "metadata": {},
   "outputs": [],
   "source": [
    "plt.scatter(ytest,predictions)"
   ]
  },
  {
   "cell_type": "code",
   "execution_count": null,
   "id": "7dad82fa-19b2-4eea-820b-52a03f45c00c",
   "metadata": {},
   "outputs": [],
   "source": [
    "lm.score(xtest,ytest)"
   ]
  },
  {
   "cell_type": "code",
   "execution_count": null,
   "id": "2fda3d24-1f1e-4def-b576-ca8aa21daea9",
   "metadata": {},
   "outputs": [],
   "source": [
    "lm.predict([[3,6,18,42]])"
   ]
  },
  {
   "cell_type": "code",
   "execution_count": null,
   "id": "cd2b79d0-07e3-45c0-9470-1495ee9813f8",
   "metadata": {},
   "outputs": [],
   "source": []
  }
 ],
 "metadata": {
  "kernelspec": {
   "display_name": "Python [conda env:base] *",
   "language": "python",
   "name": "conda-base-py"
  },
  "language_info": {
   "codemirror_mode": {
    "name": "ipython",
    "version": 3
   },
   "file_extension": ".py",
   "mimetype": "text/x-python",
   "name": "python",
   "nbconvert_exporter": "python",
   "pygments_lexer": "ipython3",
   "version": "3.12.2"
  }
 },
 "nbformat": 4,
 "nbformat_minor": 5
}
